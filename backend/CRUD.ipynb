{
 "cells": [
  {
   "cell_type": "code",
   "execution_count": 8,
   "id": "c5ef4d0f-150f-4c5e-a227-1bd3fd168930",
   "metadata": {},
   "outputs": [],
   "source": [
    "from flask import Flask, render_template, request, redirect, url_for, flash\n",
    "from ipynb.fs.full.db_config import db_connection\n",
    "import mysql.connector"
   ]
  },
  {
   "cell_type": "code",
   "execution_count": 9,
   "id": "c474ee07-c936-47eb-b5ce-8455a46cf7df",
   "metadata": {},
   "outputs": [],
   "source": [
    "app = Flask(__name__, template_folder=r'C:\\New folder\\Event_Registration\\templates')\n",
    "app.secret_key = \"ABRACADABRA\" "
   ]
  },
  {
   "cell_type": "code",
   "execution_count": 10,
   "id": "4b010928-d774-45e7-9d01-45372a75c5ac",
   "metadata": {},
   "outputs": [],
   "source": [
    "@app.route('/create_data',methods=['GET','POST'])\n",
    "def create_data():\n",
    "    if request.method == 'POST':\n",
    "        first_name = request.form['First_name']\n",
    "        last_name = request.form['Last_name']\n",
    "        DOB = request.form['dob']\n",
    "        phone_number = request.form['Phone_number']\n",
    "        address = request.form['address']\n",
    "        \n",
    "        try:\n",
    "            connection = db_connection()\n",
    "            cursor = connection.cursor()\n",
    "            cursor.execute(\"\"\"\n",
    "                INSERT INTO Registration (First_name, Last_name,DOB, Phone_number, Address)\n",
    "                VALUES (%s, %s, %s, %s, %s)\n",
    "            \"\"\",(first_name,last_name, DOB, phone_number, address) )\n",
    "            connection.commit()\n",
    "        except mysql.connector.Error as err:\n",
    "            flask(f\"Failed to insert into MySQL table, Error: {err}\")\n",
    "        finally:\n",
    "            if connection.is_connected():\n",
    "                cursor.close()\n",
    "                connection.close()\n",
    "    return render_template('create_label.html')\n"
   ]
  },
  {
   "cell_type": "code",
   "execution_count": 11,
   "id": "28328ca4-0334-4e91-a429-c2e9977539b8",
   "metadata": {},
   "outputs": [],
   "source": [
    "@app.route('/')\n",
    "def read_data():\n",
    "    try:\n",
    "        connection = db_connection()\n",
    "        cursor = connection.cursor()\n",
    "        query = \"SELECT * FROM registration\"\n",
    "        cursor.execute(query)\n",
    "        results = cursor.fetchall()\n",
    "    except mysql.connector.Error as err:\n",
    "        flask(f\"Error readinf data from MySQl table: {err}\")\n",
    "    finally:\n",
    "        if connection.is_connected():\n",
    "            cursor.close()\n",
    "            connection.close()\n",
    "    return render_template('registrations.html',registrations= results)\n"
   ]
  },
  {
   "cell_type": "code",
   "execution_count": 12,
   "id": "52eac888-3d0f-4ef3-ac83-426ad62df127",
   "metadata": {},
   "outputs": [],
   "source": [
    "@app.route('/update_data/<int:id>',methods=['GET','POST'])\n",
    "def update_data(id):\n",
    "    connection = db_connection()\n",
    "    cursor = connection.cursor()\n",
    "    query = \"UPDATE Registration SET \"\n",
    "    cursor.execute(\"SELECT * FROM registration WHERE ID = %s\", (id,))\n",
    "    registration = cursor.fetchone()\n",
    "    updates = []\n",
    "    params = []\n",
    "    if request.method == 'POST':\n",
    "        updates.append(\"First_name = %s\")\n",
    "        params.append(request.form['First name'])\n",
    "        updates.append(\"Last_name = %s\")\n",
    "        params.append(request.form['Last name'])\n",
    "        updates.append(\"Phone_number = %s\")\n",
    "        params.append(request.form['phone'])\n",
    "        updates.append(\"Address = %s\")\n",
    "        params.append(request.form['address'])\n",
    "        try:\n",
    "    \n",
    "            query += \", \".join(updates) + \" WHERE ID = %s\"\n",
    "            params.append(id)\n",
    "    \n",
    "            cursor.execute(query, tuple(params))\n",
    "            connection.commit()\n",
    "            flash('Registration updated successfully!')\n",
    "            return redirect(url_for('read_data'))\n",
    "    \n",
    "        except mysql.connector.Error as err:\n",
    "            flask(f\"Error to update record to database: {err}\")\n",
    "        finally:\n",
    "            if connection.is_connected():\n",
    "                cursor.close()\n",
    "                connection.close()\n",
    "    return render_template('update.html',registration=registration)\n"
   ]
  },
  {
   "cell_type": "code",
   "execution_count": 13,
   "id": "22ac4c55-9412-4086-bbde-e6c67649cfa6",
   "metadata": {},
   "outputs": [],
   "source": [
    "@app.route('/delete_data/<int:id>', methods=['POST'])\n",
    "def delete_data(id):\n",
    "    try:\n",
    "        connection = db_connection()\n",
    "        cursor = connection.cursor()\n",
    "        query = \"DELETE FROM registration WHERE ID = %s\"\n",
    "        cursor.execute(query, (id,))\n",
    "        connection.commit()\n",
    "        flash(\"Registration deleted successfully!\")\n",
    "    except mysql.connector.Error as err:\n",
    "        flash(f\"Error: {err}\")\n",
    "    finally:\n",
    "        if connection.is_connected():\n",
    "            cursor.close()\n",
    "            connection.close()\n",
    "    return redirect('registrations.html')\n"
   ]
  },
  {
   "cell_type": "code",
   "execution_count": 14,
   "id": "ec70796b-a33d-4ba8-b47f-556bda752411",
   "metadata": {
    "scrolled": true
   },
   "outputs": [
    {
     "name": "stdout",
     "output_type": "stream",
     "text": [
      " * Serving Flask app '__main__'\n",
      " * Debug mode: on\n"
     ]
    },
    {
     "name": "stderr",
     "output_type": "stream",
     "text": [
      "WARNING: This is a development server. Do not use it in a production deployment. Use a production WSGI server instead.\n",
      " * Running on http://127.0.0.1:5000\n",
      "Press CTRL+C to quit\n",
      "127.0.0.1 - - [22/Oct/2024 01:34:39] \"GET / HTTP/1.1\" 200 -\n"
     ]
    }
   ],
   "source": [
    "if __name__ == '__main__':\n",
    "    app.run(debug=True,use_reloader=False)"
   ]
  }
 ],
 "metadata": {
  "kernelspec": {
   "display_name": "Python 3 (ipykernel)",
   "language": "python",
   "name": "python3"
  },
  "language_info": {
   "codemirror_mode": {
    "name": "ipython",
    "version": 3
   },
   "file_extension": ".py",
   "mimetype": "text/x-python",
   "name": "python",
   "nbconvert_exporter": "python",
   "pygments_lexer": "ipython3",
   "version": "3.10.9"
  }
 },
 "nbformat": 4,
 "nbformat_minor": 5
}
