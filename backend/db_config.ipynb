{
 "cells": [
  {
   "cell_type": "code",
   "execution_count": 1,
   "id": "a364ac3f",
   "metadata": {},
   "outputs": [],
   "source": [
    "import mysql.connector\n",
    "\n",
    "def db_connection():\n",
    "    return  mysql.connector.connect(\n",
    "        host = 'localhost',  \n",
    "        user = 'root',\n",
    "        password = 'Sweety!14', \n",
    "        database = 'event',\n",
    "        use_pure=True)"
   ]
  },
  {
   "cell_type": "markdown",
   "id": "dd79016b-1b18-42ab-82c0-fdb91151c4dc",
   "metadata": {},
   "source": [
    "#db = db_connection()\n",
    "x = db.cursor()\n",
    "x.execute('SHOW TABLES')\n",
    "for y in x:\n",
    "    print(y)"
   ]
  }
 ],
 "metadata": {
  "kernelspec": {
   "display_name": "Python 3 (ipykernel)",
   "language": "python",
   "name": "python3"
  },
  "language_info": {
   "codemirror_mode": {
    "name": "ipython",
    "version": 3
   },
   "file_extension": ".py",
   "mimetype": "text/x-python",
   "name": "python",
   "nbconvert_exporter": "python",
   "pygments_lexer": "ipython3",
   "version": "3.10.9"
  }
 },
 "nbformat": 4,
 "nbformat_minor": 5
}
